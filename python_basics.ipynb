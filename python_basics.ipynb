{
 "cells": [
  {
   "cell_type": "code",
   "execution_count": 3,
   "id": "3ea90ad7-79ee-4d22-9779-59f1184c7196",
   "metadata": {},
   "outputs": [
    {
     "data": {
      "text/plain": [
       "3"
      ]
     },
     "execution_count": 3,
     "metadata": {},
     "output_type": "execute_result"
    }
   ],
   "source": [
    "1+2\n"
   ]
  },
  {
   "cell_type": "code",
   "execution_count": null,
   "id": "13875017-e298-4c6f-a01c-84fa19fecd97",
   "metadata": {},
   "outputs": [],
   "source": [
    "import numpy as np"
   ]
  },
  {
   "cell_type": "code",
   "execution_count": 4,
   "id": "19dafad1-1eec-42b3-b625-21375a60436b",
   "metadata": {},
   "outputs": [],
   "source": [
    "one_dim_array=np.arange(11)\n"
   ]
  },
  {
   "cell_type": "code",
   "execution_count": 5,
   "id": "9438430c-4e10-4a67-b5ba-cb0b2e935f87",
   "metadata": {},
   "outputs": [
    {
     "data": {
      "text/plain": [
       "array([ 0,  1,  2,  3,  4,  5,  6,  7,  8,  9, 10])"
      ]
     },
     "execution_count": 5,
     "metadata": {},
     "output_type": "execute_result"
    }
   ],
   "source": [
    "one_dim_array"
   ]
  },
  {
   "cell_type": "code",
   "execution_count": 6,
   "id": "b8529b94-7345-4a78-9dc4-f1c5bd8809c3",
   "metadata": {},
   "outputs": [
    {
     "data": {
      "text/plain": [
       "array([ 0,  2,  4,  6,  8, 10])"
      ]
     },
     "execution_count": 6,
     "metadata": {},
     "output_type": "execute_result"
    }
   ],
   "source": [
    "one_dim_array[0::2]\n"
   ]
  },
  {
   "cell_type": "code",
   "execution_count": 13,
   "id": "1964a761-4a67-4c93-a5da-689453768d3e",
   "metadata": {},
   "outputs": [],
   "source": [
    "array2=np.arange(20,31)"
   ]
  },
  {
   "cell_type": "code",
   "execution_count": 14,
   "id": "2f3098c0-2226-40c3-af71-430c73abf830",
   "metadata": {},
   "outputs": [
    {
     "data": {
      "text/plain": [
       "array([20, 21, 22, 23, 24, 25, 26, 27, 28, 29, 30])"
      ]
     },
     "execution_count": 14,
     "metadata": {},
     "output_type": "execute_result"
    }
   ],
   "source": [
    "array2"
   ]
  },
  {
   "cell_type": "raw",
   "id": "b1c596b2-fcb8-491b-9f6b-2209f2692564",
   "metadata": {},
   "source": [
    "arr_odd=array2[0::2]"
   ]
  },
  {
   "cell_type": "code",
   "execution_count": 16,
   "id": "12c1150f-f7da-4e17-bcf3-16712bd59ebb",
   "metadata": {},
   "outputs": [
    {
     "data": {
      "text/plain": [
       "array([10, 12, 14, 16, 18, 20])"
      ]
     },
     "execution_count": 16,
     "metadata": {},
     "output_type": "execute_result"
    }
   ],
   "source": [
    "np.arange(10,21,2)"
   ]
  },
  {
   "cell_type": "code",
   "execution_count": 18,
   "id": "9d0a9b3c-aec0-42b9-935f-3ee6de359b23",
   "metadata": {},
   "outputs": [
    {
     "data": {
      "text/plain": [
       "array([0., 0., 0., 0., 0., 0., 0., 0., 0., 0.])"
      ]
     },
     "execution_count": 18,
     "metadata": {},
     "output_type": "execute_result"
    }
   ],
   "source": [
    "np.zeros(10)"
   ]
  },
  {
   "cell_type": "code",
   "execution_count": null,
   "id": "df7330d8-0b75-4a66-9720-ad489975d30e",
   "metadata": {},
   "outputs": [],
   "source": []
  }
 ],
 "metadata": {
  "kernelspec": {
   "display_name": "Python 3 (ipykernel)",
   "language": "python",
   "name": "python3"
  },
  "language_info": {
   "codemirror_mode": {
    "name": "ipython",
    "version": 3
   },
   "file_extension": ".py",
   "mimetype": "text/x-python",
   "name": "python",
   "nbconvert_exporter": "python",
   "pygments_lexer": "ipython3",
   "version": "3.11.3"
  }
 },
 "nbformat": 4,
 "nbformat_minor": 5
}
