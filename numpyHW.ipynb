{
 "cells": [
  {
   "cell_type": "code",
   "execution_count": 2,
   "id": "8e0179e4-d95a-40e3-a8f6-b6b8d92ea4e0",
   "metadata": {},
   "outputs": [],
   "source": [
    "import numpy as np"
   ]
  },
  {
   "cell_type": "code",
   "execution_count": 5,
   "id": "2ad8f3c4-09bd-4569-a060-7ab73859cb10",
   "metadata": {},
   "outputs": [],
   "source": [
    "array1=np.zeros(10)"
   ]
  },
  {
   "cell_type": "code",
   "execution_count": 8,
   "id": "bb9d3e23-fc29-40c4-9c24-f46d472a5285",
   "metadata": {},
   "outputs": [
    {
     "data": {
      "text/plain": [
       "array([0., 0., 0., 0., 0., 0., 0., 0., 0., 0.])"
      ]
     },
     "execution_count": 8,
     "metadata": {},
     "output_type": "execute_result"
    }
   ],
   "source": [
    "array1"
   ]
  },
  {
   "cell_type": "code",
   "execution_count": 7,
   "id": "30205734-2a5e-4783-8297-3a41f38fde32",
   "metadata": {},
   "outputs": [
    {
     "data": {
      "text/plain": [
       "8"
      ]
     },
     "execution_count": 7,
     "metadata": {},
     "output_type": "execute_result"
    }
   ],
   "source": [
    "array1.itemsize"
   ]
  },
  {
   "cell_type": "code",
   "execution_count": null,
   "id": "89cdd2de-67a4-48ea-968d-43ab754b8b2f",
   "metadata": {},
   "outputs": [],
   "source": [
    "add = <ufunc 'add'>\n",
    "    add(x1, x2, /, out=None, *, where=True, casting='same_kind', order='K', dtype=None, subok=True[, signature, extobj])\n",
    "\n",
    "    Add arguments element-wise.\n",
    "\n",
    "    Parameters\n",
    "    ----------\n",
    "    x1, x2 : array_like\n",
    "        The arrays to be added.\n",
    "        If ``x1.shape != x2.shape``, they must be broadcastable to a common\n",
    "        shape (which becomes the shape of the output).\n",
    "    out : ndarray, None, or tuple of ndarray and None, optional"
   ]
  },
  {
   "cell_type": "code",
   "execution_count": 9,
   "id": "c364f57f-2026-4b26-8f74-cba87cc4b7a6",
   "metadata": {},
   "outputs": [
    {
     "data": {
      "text/plain": [
       "array([10, 11, 12, 13, 14, 15, 16, 17, 18, 19, 20, 21, 22, 23, 24, 25, 26,\n",
       "       27, 28, 29, 30, 31, 32, 33, 34, 35, 36, 37, 38, 39, 40, 41, 42, 43,\n",
       "       44, 45, 46, 47, 48, 49])"
      ]
     },
     "execution_count": 9,
     "metadata": {},
     "output_type": "execute_result"
    }
   ],
   "source": [
    "array2=np.arange(10,50)\n",
    "array2"
   ]
  },
  {
   "cell_type": "code",
   "execution_count": 10,
   "id": "319fb7fc-c995-41c3-a722-a2a0050a8c4d",
   "metadata": {},
   "outputs": [
    {
     "data": {
      "text/plain": [
       "array([49, 48, 47, 46, 45, 44, 43, 42, 41, 40, 39, 38, 37, 36, 35, 34, 33,\n",
       "       32, 31, 30, 29, 28, 27, 26, 25, 24, 23, 22, 21, 20, 19, 18, 17, 16,\n",
       "       15, 14, 13, 12, 11, 10])"
      ]
     },
     "execution_count": 10,
     "metadata": {},
     "output_type": "execute_result"
    }
   ],
   "source": [
    "rewerce=array2[::-1]\n",
    "rewerce"
   ]
  },
  {
   "cell_type": "code",
   "execution_count": 18,
   "id": "6beac0ab-f26d-4702-9730-2ab3eeb4a522",
   "metadata": {},
   "outputs": [
    {
     "data": {
      "text/plain": [
       "array([[0, 1, 2],\n",
       "       [3, 4, 5],\n",
       "       [6, 7, 8]])"
      ]
     },
     "execution_count": 18,
     "metadata": {},
     "output_type": "execute_result"
    }
   ],
   "source": [
    "matrix=np.arange(9)\n",
    "matrix_reshape=matrix.reshape((3,3))\n",
    "matrix_reshape\n"
   ]
  },
  {
   "cell_type": "code",
   "execution_count": 19,
   "id": "86fe61f7-5c01-49f9-8638-90fed391d0fa",
   "metadata": {},
   "outputs": [
    {
     "data": {
      "text/plain": [
       "(array([0, 1, 4], dtype=int64),)"
      ]
     },
     "execution_count": 19,
     "metadata": {},
     "output_type": "execute_result"
    }
   ],
   "source": [
    "np.nonzero([1,2,0,0,4,0])"
   ]
  },
  {
   "cell_type": "code",
   "execution_count": 20,
   "id": "4d6f6878-4d89-4c63-978a-b6ef2d2ba8ef",
   "metadata": {},
   "outputs": [
    {
     "data": {
      "text/plain": [
       "array([[1., 0., 0.],\n",
       "       [0., 1., 0.],\n",
       "       [0., 0., 1.]])"
      ]
     },
     "execution_count": 20,
     "metadata": {},
     "output_type": "execute_result"
    }
   ],
   "source": [
    "eye=np.eye(3,3)\n",
    "eye"
   ]
  },
  {
   "cell_type": "code",
   "execution_count": 25,
   "id": "a4b8ede0-2d88-4f65-b426-b6995d5fb39a",
   "metadata": {},
   "outputs": [
    {
     "data": {
      "text/plain": [
       "array([[0, 1, 2, 3, 4],\n",
       "       [0, 1, 2, 3, 4],\n",
       "       [0, 1, 2, 3, 4],\n",
       "       [0, 1, 2, 3, 4],\n",
       "       [0, 1, 2, 3, 4]])"
      ]
     },
     "execution_count": 25,
     "metadata": {},
     "output_type": "execute_result"
    }
   ],
   "source": [
    "values=np.arange(5)\n",
    "matrix=np.tile(values,(5,1))\n",
    "matrix"
   ]
  },
  {
   "cell_type": "code",
   "execution_count": 29,
   "id": "63cbb7f5-05fd-4719-95d2-dc4f577f82c3",
   "metadata": {},
   "outputs": [
    {
     "data": {
      "text/plain": [
       "array([0.        , 0.11111111, 0.22222222, 0.33333333, 0.44444444,\n",
       "       0.55555556, 0.66666667, 0.77777778, 0.88888889, 1.        ])"
      ]
     },
     "execution_count": 29,
     "metadata": {},
     "output_type": "execute_result"
    }
   ],
   "source": [
    "arr=np.linspace(0,1,10)\n",
    "arr"
   ]
  },
  {
   "cell_type": "code",
   "execution_count": 30,
   "id": "04b3b063-65ac-4173-b63a-9b6651ed51a3",
   "metadata": {},
   "outputs": [
    {
     "data": {
      "text/plain": [
       "array([0.07297512, 0.11795365, 0.28519433, 0.29935887, 0.30097356,\n",
       "       0.3843886 , 0.48994256, 0.84004361, 0.85734867, 0.92365155])"
      ]
     },
     "execution_count": 30,
     "metadata": {},
     "output_type": "execute_result"
    }
   ],
   "source": [
    "vector=np.random.rand(10)\n",
    "sorted_vector=np.sort(vector)\n",
    "sorted_vector"
   ]
  },
  {
   "cell_type": "code",
   "execution_count": null,
   "id": "f531fd58-f69b-4e6c-878c-38888d5a420d",
   "metadata": {},
   "outputs": [],
   "source": []
  }
 ],
 "metadata": {
  "kernelspec": {
   "display_name": "Python 3 (ipykernel)",
   "language": "python",
   "name": "python3"
  },
  "language_info": {
   "codemirror_mode": {
    "name": "ipython",
    "version": 3
   },
   "file_extension": ".py",
   "mimetype": "text/x-python",
   "name": "python",
   "nbconvert_exporter": "python",
   "pygments_lexer": "ipython3",
   "version": "3.11.3"
  }
 },
 "nbformat": 4,
 "nbformat_minor": 5
}
